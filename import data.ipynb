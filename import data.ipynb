{
 "cells": [
  {
   "cell_type": "code",
   "execution_count": 1,
   "metadata": {},
   "outputs": [],
   "source": [
    "#import thư viện\r\n",
    "import os\r\n",
    "import cv2\r\n",
    "import pickle\r\n",
    "import numpy as np\r\n",
    "import xml.etree.ElementTree as ET\r\n",
    "import matplotlib.pyplot as plt\r\n",
    "from tensorflow.keras.utils import to_categorical"
   ]
  },
  {
   "cell_type": "code",
   "execution_count": 2,
   "metadata": {},
   "outputs": [],
   "source": [
    "#path cho data\r\n",
    "BASE_DIR = os.getcwd()\r\n",
    "image_dir = os.path.join(BASE_DIR, 'data', 'input')\r\n",
    "annot_dir = os.path.join(BASE_DIR, 'data', 'annotations')"
   ]
  },
  {
   "cell_type": "code",
   "execution_count": 3,
   "metadata": {},
   "outputs": [
    {
     "name": "stdout",
     "output_type": "stream",
     "text": [
      "Total images : 1370\n"
     ]
    }
   ],
   "source": [
    "#load data gồm các thông số từ file XML với ảnh tương ứng\r\n",
    "label2category = {'without_mask': 0, 'with_mask': 1}\r\n",
    "category2label = {v: k for k, v in label2category.items()}\r\n",
    "datas = []\r\n",
    "\r\n",
    "for root, dirs, files in os.walk(annot_dir):\r\n",
    "    for file in files:\r\n",
    "        tree = ET.parse(os.path.join(root, file))\r\n",
    "        data = {'path': None, 'objects': []}\r\n",
    "        data['path'] = os.path.join(image_dir, tree.find('filename').text)\r\n",
    "        for obj in tree.findall('object'):\r\n",
    "            label = label2category[obj.find('name').text]\r\n",
    "            xmin = int(obj.find('bndbox/xmin').text)\r\n",
    "            ymin = int(obj.find('bndbox/ymin').text)\r\n",
    "            xmax = int(obj.find('bndbox/xmax').text)\r\n",
    "            ymax = int(obj.find('bndbox/ymax').text)\r\n",
    "            data['objects'].append([label, xmin, ymin, xmax, ymax])\r\n",
    "        datas.append(data)"
   ]
  },
  {
   "cell_type": "code",
   "execution_count": 4,
   "metadata": {},
   "outputs": [],
   "source": [
    "#lưu vào mảng X và Y, X chứa trọng số của data, Y chứa nhãn của data\r\n",
    "img_size = (100, 100)\r\n",
    "X = []\r\n",
    "Y = []\r\n",
    "\r\n",
    "for data in datas:\r\n",
    "    img = cv2.imread(data['path'])\r\n",
    "    for (category, xmin, ymin, xmax, ymax) in data['objects']:\r\n",
    "        roi = img[ymin : ymax, xmin : xmax]\r\n",
    "        roi = cv2.resize(roi, (100, 100))\r\n",
    "        data = cv2.cvtColor(roi, cv2.COLOR_BGR2RGB)\r\n",
    "        target = to_categorical(category, num_classes=len(category2label))\r\n",
    "        X.append(data)\r\n",
    "        Y.append(target)\r\n",
    "        \r\n",
    "X = np.array(X)\r\n",
    "Y = np.array(Y)"
   ]
  },
  {
   "cell_type": "code",
   "execution_count": 5,
   "metadata": {},
   "outputs": [],
   "source": [
    "np.save('data/X', X)\n",
    "np.save('data/Y', Y)"
   ]
  },
  {
   "cell_type": "code",
   "execution_count": 6,
   "metadata": {},
   "outputs": [],
   "source": [
    "with open('data/category2label.pkl', 'wb') as pf:\n",
    "    pickle.dump(category2label, pf)"
   ]
  }
 ],
 "metadata": {
  "interpreter": {
   "hash": "0600588c3b5f4418cbe7b5ebc6825b479f3bc010269d8b60d75058cdd010adfe"
  },
  "kernelspec": {
   "display_name": "Python 3.7.9 64-bit",
   "name": "python3"
  },
  "language_info": {
   "name": "python",
   "version": ""
  }
 },
 "nbformat": 4,
 "nbformat_minor": 4
}